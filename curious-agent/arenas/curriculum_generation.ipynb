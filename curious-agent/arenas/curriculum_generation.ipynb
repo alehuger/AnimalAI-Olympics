{
 "cells": [
  {
   "cell_type": "code",
   "execution_count": 20,
   "metadata": {},
   "outputs": [],
   "source": [
    "from arena_generation import *\n",
    "import numpy as np\n",
    "from random import randint, random\n",
    "from math import sqrt"
   ]
  },
  {
   "cell_type": "markdown",
   "metadata": {},
   "source": [
    "## Generate Initial Detour Curriculum"
   ]
  },
  {
   "cell_type": "code",
   "execution_count": 10,
   "metadata": {},
   "outputs": [],
   "source": [
    "# template = 'empty'\n",
    "# template = 'withGoal'\n",
    "template = 'withWallTransparent'\n",
    "# template = 'withCylinderTunnelTransparent'"
   ]
  },
  {
   "cell_type": "code",
   "execution_count": 11,
   "metadata": {},
   "outputs": [
    {
     "name": "stdout",
     "output_type": "stream",
     "text": [
      "\n",
      " Yaml file generated at :  generated/withWallTransparent/121.yml\n"
     ]
    }
   ],
   "source": [
    "for i in range(1):\n",
    "    \n",
    "    r = np.random.random(9)\n",
    "    \n",
    "    agent_position=[int(r[0]*38 + 1), 0, int(r[1]*38 + 1)]\n",
    "    \n",
    "    obstacle_position=[10 + int(r[2]*20), 0, 10 + int(r[3]*20)]\n",
    "    \n",
    "    obstacle_size=[int(r[4]*8 + 1), 5, int(r[5]*8 + 1)]\n",
    "    \n",
    "    goal_position=[int(r[5]*38 + 1), 0, int(r[6]*38 + 1)]\n",
    "    goal_size=1  \n",
    "    agent_rotation=int(r[8]*90) - 45\n",
    "    \n",
    "    x_min=obstacle_position[0] - obstacle_size[0]\n",
    "    x_max=obstacle_position[0] + obstacle_size[0]\n",
    "    z_min=obstacle_position[2] - obstacle_size[2]\n",
    "    z_max=obstacle_position[2] + obstacle_size[2]\n",
    "    \n",
    "    gx_min=goal_position[0] - goal_size\n",
    "    gx_max=goal_position[0] + goal_size\n",
    "    gz_min=goal_position[2] - goal_size\n",
    "    gz_max=goal_position[2] + goal_size\n",
    "    \n",
    "    if (goal_position[0]> x_min and goal_position[0]< x_max and goal_position[2]> z_min and goal_position[2]< z_max ):\n",
    "        print('goal trapped')  \n",
    "        \n",
    "    elif (agent_position[0]> x_min and agent_position[0]< x_max and agent_position[2]> z_min and agent_position[2]< z_max ):\n",
    "        print('agent trapped')\n",
    "        \n",
    "    elif (agent_position[0]> gx_min and agent_position[0]< gx_max and agent_position[2]> gz_min and agent_position[2]< gz_max ):\n",
    "        print('agent in goal')\n",
    "        \n",
    "    else:\n",
    "        generate_general_arena_yaml_file(template,  agent_position=agent_position, obstacle_position=obstacle_position, \n",
    "                                     obstacle_size=obstacle_size, goal_position=goal_position,\n",
    "                                     goal_size=goal_size, agent_rotation=agent_rotation)"
   ]
  },
  {
   "cell_type": "markdown",
   "metadata": {},
   "source": [
    "## Create Hard Detour Tasks Environments"
   ]
  },
  {
   "cell_type": "markdown",
   "metadata": {},
   "source": [
    "### Large Obstruction Task"
   ]
  },
  {
   "cell_type": "code",
   "execution_count": 131,
   "metadata": {},
   "outputs": [],
   "source": [
    "def generate_front_large_obstruction_task(ww, template='withWallTransparent'):\n",
    "    \n",
    "    assert (ww in range(15, 39))\n",
    "    \n",
    "    left = randint(0, 1)\n",
    "    \n",
    "    wx = 21 - 2* left \n",
    "    wz = randint(10, 30)\n",
    "\n",
    "    ax = randint(wx - 7, wx + 7)\n",
    "    az = randint(max(2, wz - 25), wz-2)\n",
    "\n",
    "    gx = randint(2, 38)\n",
    "    gz = randint(wz + 2, 38)\n",
    "    \n",
    "    agent_rotation = randint(-30, 30)\n",
    "    \n",
    "    generate_general_arena_yaml_file(template, obstacle_position=[wx, 0, wz], obstacle_size=[ww, 10, 2], \n",
    "                                      goal_position=[gx, 0, gz],\n",
    "                                      agent_position=[ax, 0, az], agent_rotation=agent_rotation, \n",
    "                                      time=250, pass_mark=0)"
   ]
  },
  {
   "cell_type": "code",
   "execution_count": 6,
   "metadata": {},
   "outputs": [],
   "source": [
    "# Config 1\n",
    "\n",
    "# wall X : wx= [18, 22] r=|20-wx|\n",
    "# wall width: ww = [5, 20-r]\n",
    "# wall Z: wz = [15, 35]\n",
    "\n",
    "# agent X: ax = [wx-5, wx+5]\n",
    "# agent Z: az = [max(2, wz -25) , wz -2]\n",
    "\n",
    "#goal X: gw = [2, 38]\n",
    "#goal Z: gz = [wz + 2, 38]\n"
   ]
  },
  {
   "cell_type": "code",
   "execution_count": 10,
   "metadata": {},
   "outputs": [],
   "source": []
  },
  {
   "cell_type": "code",
   "execution_count": 30,
   "metadata": {},
   "outputs": [],
   "source": [
    "for width in range(15, 15):\n",
    "    for _ in range(5):\n",
    "        generate_front_large_obstruction_task(width)"
   ]
  },
  {
   "cell_type": "markdown",
   "metadata": {},
   "source": [
    "### Angular Walls Arenas"
   ]
  },
  {
   "cell_type": "code",
   "execution_count": 158,
   "metadata": {},
   "outputs": [],
   "source": [
    "\n",
    "\n",
    "def generate_angular_walls_env_by_length(template_path, length, eps = 2):\n",
    "    \n",
    "    with open(template_path) as f:\n",
    "        yaml_file = yaml.load(f, Loader=yaml.FullLoader)\n",
    "    \n",
    "    l = [0, 1, 2, 3]\n",
    "    agent_pos = np.random.choice(l)\n",
    "    l.remove(agent_pos)\n",
    "    goal_pos = np.random.choice(l)\n",
    "\n",
    "    cadran = [[20, 18], [20, 22], [22, 20], [18, 20]]\n",
    "    \n",
    "    agent_pos_x, agent_pos_z = cadran[agent_pos]\n",
    "    goal_pos_x, goal_pos_z = cadran[goal_pos]\n",
    "    \n",
    "    yaml_file.arenas[0].items[1].positions[0].x = goal_pos_x\n",
    "    yaml_file.arenas[0].items[1].positions[0].z = goal_pos_z\n",
    "    \n",
    "    yaml_file.arenas[0].items[2].positions[0].x = agent_pos_x\n",
    "    yaml_file.arenas[0].items[2].positions[0].z = agent_pos_z\n",
    "    \n",
    "    r_0 = length + eps * (random()-0.5)\n",
    "    x_0_c = 20- r_0\n",
    "    z_0_c = 20 + r_0\n",
    "    r = sqrt((x_0_c-20)**2 + (z_0_c-20)**2)\n",
    "\n",
    "    yaml_file.arenas[0].items[0].positions[0].x = x_0_c\n",
    "    yaml_file.arenas[0].items[0].positions[0].z = z_0_c\n",
    "    yaml_file.arenas[0].items[0].sizes[0].x = int(2*r -1 )\n",
    "\n",
    "    r_1 = length + eps * (random()-0.5)\n",
    "    x_1_c = 20 + r_1\n",
    "    z_1_c = 20 + r_1\n",
    "    r = sqrt((x_1_c-20)**2 + (z_1_c-20)**2)\n",
    "\n",
    "    yaml_file.arenas[0].items[0].positions[1].x = x_1_c\n",
    "    yaml_file.arenas[0].items[0].positions[1].z = z_1_c\n",
    "    yaml_file.arenas[0].items[0].sizes[1].x = int(2*r -1)\n",
    "\n",
    "    r_2 = length + eps * (random()-0.5)\n",
    "    x_2_c = 20 - r_2\n",
    "    z_2_c = 20 - r_2\n",
    "    r = sqrt((x_2_c-20)**2 + (z_2_c-20)**2)\n",
    "\n",
    "    yaml_file.arenas[0].items[0].positions[2].x = x_2_c\n",
    "    yaml_file.arenas[0].items[0].positions[2].z = z_2_c\n",
    "    yaml_file.arenas[0].items[0].sizes[2].x = int(2*r - 1)\n",
    "\n",
    "    r_3 = length + eps * (random()-0.5)\n",
    "    x_3_c = 20 + r_3\n",
    "    z_3_c = 20 - r_3\n",
    "    r = sqrt((x_3_c-20)**2 + (z_3_c-20)**2)\n",
    "\n",
    "    yaml_file.arenas[0].items[0].positions[3].x = x_3_c\n",
    "    yaml_file.arenas[0].items[0].positions[3].z = z_3_c\n",
    "    yaml_file.arenas[0].items[0].sizes[3].x = int(2*r - 1)\n",
    "    \n",
    "    \n",
    "    \n",
    "    out_folder = '../configurations/environment_configurations/angular_walls/'\n",
    "    save_yaml(yaml_file, out_folder)"
   ]
  },
  {
   "cell_type": "code",
   "execution_count": 159,
   "metadata": {},
   "outputs": [],
   "source": [
    "template_path = '../configurations/environment_configurations/angular_walls/template.yml'"
   ]
  },
  {
   "cell_type": "markdown",
   "metadata": {},
   "source": [
    "### Successives Walls"
   ]
  },
  {
   "cell_type": "markdown",
   "metadata": {},
   "source": [
    "## Create Hard Detour Tasks Environments"
   ]
  },
  {
   "cell_type": "code",
   "execution_count": null,
   "metadata": {},
   "outputs": [],
   "source": []
  },
  {
   "cell_type": "markdown",
   "metadata": {},
   "source": [
    "# Utils"
   ]
  },
  {
   "cell_type": "markdown",
   "metadata": {},
   "source": [
    "### Add env to curriculum"
   ]
  },
  {
   "cell_type": "code",
   "execution_count": 14,
   "metadata": {},
   "outputs": [],
   "source": [
    "folder = \"../configurations/environment_configurations/angular_walls/\"\n",
    "list_env = [file for file in os.listdir(folder) if file.endswith('.yml')]"
   ]
  },
  {
   "cell_type": "code",
   "execution_count": 16,
   "metadata": {},
   "outputs": [
    {
     "name": "stdout",
     "output_type": "stream",
     "text": [
      "\n",
      " Yaml file generated at :  ../configurations/environment_configurations/comprehensive_curriculum/113.yml\n",
      "\n",
      " Yaml file generated at :  ../configurations/environment_configurations/comprehensive_curriculum/114.yml\n",
      "\n",
      " Yaml file generated at :  ../configurations/environment_configurations/comprehensive_curriculum/115.yml\n",
      "\n",
      " Yaml file generated at :  ../configurations/environment_configurations/comprehensive_curriculum/116.yml\n",
      "\n",
      " Yaml file generated at :  ../configurations/environment_configurations/comprehensive_curriculum/117.yml\n",
      "\n",
      " Yaml file generated at :  ../configurations/environment_configurations/comprehensive_curriculum/118.yml\n",
      "\n",
      " Yaml file generated at :  ../configurations/environment_configurations/comprehensive_curriculum/119.yml\n",
      "\n",
      " Yaml file generated at :  ../configurations/environment_configurations/comprehensive_curriculum/120.yml\n",
      "\n",
      " Yaml file generated at :  ../configurations/environment_configurations/comprehensive_curriculum/121.yml\n",
      "\n",
      " Yaml file generated at :  ../configurations/environment_configurations/comprehensive_curriculum/122.yml\n",
      "\n",
      " Yaml file generated at :  ../configurations/environment_configurations/comprehensive_curriculum/123.yml\n",
      "\n",
      " Yaml file generated at :  ../configurations/environment_configurations/comprehensive_curriculum/124.yml\n",
      "\n",
      " Yaml file generated at :  ../configurations/environment_configurations/comprehensive_curriculum/125.yml\n",
      "\n",
      " Yaml file generated at :  ../configurations/environment_configurations/comprehensive_curriculum/126.yml\n",
      "\n",
      " Yaml file generated at :  ../configurations/environment_configurations/comprehensive_curriculum/127.yml\n",
      "\n",
      " Yaml file generated at :  ../configurations/environment_configurations/comprehensive_curriculum/128.yml\n",
      "\n",
      " Yaml file generated at :  ../configurations/environment_configurations/comprehensive_curriculum/129.yml\n",
      "\n",
      " Yaml file generated at :  ../configurations/environment_configurations/comprehensive_curriculum/130.yml\n",
      "\n",
      " Yaml file generated at :  ../configurations/environment_configurations/comprehensive_curriculum/131.yml\n",
      "\n",
      " Yaml file generated at :  ../configurations/environment_configurations/comprehensive_curriculum/132.yml\n",
      "\n",
      " Yaml file generated at :  ../configurations/environment_configurations/comprehensive_curriculum/133.yml\n",
      "\n",
      " Yaml file generated at :  ../configurations/environment_configurations/comprehensive_curriculum/134.yml\n",
      "\n",
      " Yaml file generated at :  ../configurations/environment_configurations/comprehensive_curriculum/135.yml\n",
      "\n",
      " Yaml file generated at :  ../configurations/environment_configurations/comprehensive_curriculum/136.yml\n",
      "\n",
      " Yaml file generated at :  ../configurations/environment_configurations/comprehensive_curriculum/137.yml\n",
      "\n",
      " Yaml file generated at :  ../configurations/environment_configurations/comprehensive_curriculum/138.yml\n",
      "\n",
      " Yaml file generated at :  ../configurations/environment_configurations/comprehensive_curriculum/139.yml\n",
      "\n",
      " Yaml file generated at :  ../configurations/environment_configurations/comprehensive_curriculum/140.yml\n",
      "\n",
      " Yaml file generated at :  ../configurations/environment_configurations/comprehensive_curriculum/141.yml\n"
     ]
    }
   ],
   "source": [
    "out_folder = \"../configurations/environment_configurations/comprehensive_curriculum/\"\n",
    "i=109\n",
    "for file in list_env:\n",
    "    with open(folder + file) as f:\n",
    "            yaml_file = yaml.load(f, Loader=yaml.FullLoader)\n",
    "            #out_name = str(i) + '.yml'\n",
    "            save_yaml(yaml_file, out_folder)\n",
    "            i+=1"
   ]
  },
  {
   "cell_type": "markdown",
   "metadata": {},
   "source": [
    "### Edit json list yaml "
   ]
  },
  {
   "cell_type": "code",
   "execution_count": 4,
   "metadata": {},
   "outputs": [
    {
     "name": "stdout",
     "output_type": "stream",
     "text": [
      "\"109.yml\",\n",
      "\"110.yml\",\n",
      "\"111.yml\",\n",
      "\"112.yml\",\n",
      "\"113.yml\",\n",
      "\"114.yml\",\n",
      "\"115.yml\",\n",
      "\"116.yml\",\n",
      "\"117.yml\",\n",
      "\"118.yml\",\n",
      "\"119.yml\",\n",
      "\"120.yml\",\n",
      "\"121.yml\",\n",
      "\"122.yml\",\n",
      "\"123.yml\",\n",
      "\"124.yml\",\n",
      "\"125.yml\",\n",
      "\"126.yml\",\n",
      "\"127.yml\",\n",
      "\"128.yml\",\n",
      "\"129.yml\",\n",
      "\"130.yml\",\n",
      "\"131.yml\",\n",
      "\"132.yml\",\n",
      "\"133.yml\",\n",
      "\"134.yml\",\n",
      "\"135.yml\",\n",
      "\"136.yml\",\n",
      "\n"
     ]
    }
   ],
   "source": [
    "res = \"\"\n",
    "for i in range(109, 109+28):\n",
    "    res+=\"\\\"\" + str(i) + \".yml\\\",\" \n",
    "    res+= \"\\n\"\n",
    "    \n",
    "print(res)"
   ]
  },
  {
   "cell_type": "markdown",
   "metadata": {},
   "source": [
    "### Test Env"
   ]
  },
  {
   "cell_type": "code",
   "execution_count": 133,
   "metadata": {},
   "outputs": [],
   "source": [
    "path_yaml = 'generated/withWallTransparent/100.yml'"
   ]
  },
  {
   "cell_type": "code",
   "execution_count": 135,
   "metadata": {},
   "outputs": [],
   "source": [
    "from animalai.envs.arena_config import ArenaConfig\n",
    "from animalai.envs.environment import AnimalAIEnvironment\n",
    "from mlagents_envs.exception import UnityCommunicationException\n",
    "\n",
    "try:\n",
    "    environment = AnimalAIEnvironment(\n",
    "            file_name='../env/AnimalAI',\n",
    "            base_port=5008,\n",
    "            arenas_configurations=ArenaConfig(path_yaml),\n",
    "            play=True,\n",
    "        )\n",
    "except UnityCommunicationException:\n",
    "    # you'll end up here if you close the environment window directly\n",
    "    # always try to close it from script\n",
    "    environment.close()"
   ]
  },
  {
   "cell_type": "code",
   "execution_count": 136,
   "metadata": {},
   "outputs": [],
   "source": [
    "environment.close()"
   ]
  }
 ],
 "metadata": {
  "kernelspec": {
   "display_name": "Python 3",
   "language": "python",
   "name": "python3"
  },
  "language_info": {
   "codemirror_mode": {
    "name": "ipython",
    "version": 3
   },
   "file_extension": ".py",
   "mimetype": "text/x-python",
   "name": "python",
   "nbconvert_exporter": "python",
   "pygments_lexer": "ipython3",
   "version": "3.6.10"
  }
 },
 "nbformat": 4,
 "nbformat_minor": 4
}
