{
 "cells": [
  {
   "cell_type": "markdown",
   "metadata": {},
   "source": [
    "# Utils"
   ]
  },
  {
   "cell_type": "code",
   "execution_count": 1,
   "metadata": {},
   "outputs": [],
   "source": [
    "import os, yaml\n",
    "from arena_generation import *"
   ]
  },
  {
   "cell_type": "markdown",
   "metadata": {},
   "source": [
    "### Add env to curriculum"
   ]
  },
  {
   "cell_type": "code",
   "execution_count": 10,
   "metadata": {},
   "outputs": [],
   "source": [
    "def add_env_set_to_curriculum(env_set_folder, out_curriculum_folder, index_start):\n",
    "    list_env = [file for file in os.listdir(env_set_folder) if file.endswith('.yml')]\n",
    "    i=index_start\n",
    "    for file in list_env:\n",
    "        with open(env_set_folder + file) as f:\n",
    "                yaml_file = yaml.load(f, Loader=yaml.FullLoader)\n",
    "                out_name = str(i) + '.yml'\n",
    "                save_yaml(yaml_file, out_curriculum_folder + out_name)\n",
    "                i+=1"
   ]
  },
  {
   "cell_type": "markdown",
   "metadata": {},
   "source": [
    "### Edit json list yaml "
   ]
  },
  {
   "cell_type": "code",
   "execution_count": 12,
   "metadata": {},
   "outputs": [],
   "source": [
    "def print_list_yaml_json_file(start, end):\n",
    "    res = \"\"\n",
    "    for i in range(start, end):\n",
    "        res+=\"\\\"\" + str(i) + \".yml\\\",\" \n",
    "        res+= \"\\n\"\n",
    "    print(res)"
   ]
  },
  {
   "cell_type": "markdown",
   "metadata": {},
   "source": [
    "### Edit time yaml file"
   ]
  },
  {
   "cell_type": "code",
   "execution_count": 3,
   "metadata": {},
   "outputs": [],
   "source": [
    "def edit_time(out_folder, time, verbose=False):\n",
    "    yaml_files = [file for file in os.listdir(out_folder) if file.endswith('.yml')]\n",
    "    for file in yaml_files:\n",
    "            with open(out_folder + file) as f:\n",
    "                yaml_file = yaml.load(f, Loader=yaml.FullLoader)\n",
    "                n=list(yaml_file.arenas.keys())[0]        \n",
    "                yaml_file.arenas[n].t = time\n",
    "                save_yaml(yaml_file, out_folder + file, verbose=verbose)"
   ]
  },
  {
   "cell_type": "markdown",
   "metadata": {},
   "source": [
    "## Main"
   ]
  },
  {
   "cell_type": "code",
   "execution_count": 6,
   "metadata": {},
   "outputs": [],
   "source": [
    "folder = \"../configurations/environment_configurations/angular_walls/\"\n",
    "out_folder = \"../configurations/environment_configurations/comprehensive_curriculum/\"\n",
    "start=109\n",
    "#add_env_set_to_curriculum(folder, out_folder, start)"
   ]
  },
  {
   "cell_type": "code",
   "execution_count": 5,
   "metadata": {},
   "outputs": [],
   "source": [
    "a = '../configurations/environment_configurations/comprehensive_curriculum/'\n",
    "edit_time(a, 250)"
   ]
  },
  {
   "cell_type": "markdown",
   "metadata": {},
   "source": [
    "### Test Env"
   ]
  },
  {
   "cell_type": "code",
   "execution_count": 133,
   "metadata": {},
   "outputs": [],
   "source": [
    "path_yaml = 'generated/withWallTransparent/100.yml'"
   ]
  },
  {
   "cell_type": "code",
   "execution_count": 135,
   "metadata": {},
   "outputs": [],
   "source": [
    "from animalai.envs.arena_config import ArenaConfig\n",
    "from animalai.envs.environment import AnimalAIEnvironment\n",
    "from mlagents_envs.exception import UnityCommunicationException\n",
    "\n",
    "try:\n",
    "    environment = AnimalAIEnvironment(\n",
    "            file_name='../env/AnimalAI',\n",
    "            base_port=5008,\n",
    "            arenas_configurations=ArenaConfig(path_yaml),\n",
    "            play=True,\n",
    "        )\n",
    "except UnityCommunicationException:\n",
    "    # you'll end up here if you close the environment window directly\n",
    "    # always try to close it from script\n",
    "    environment.close()"
   ]
  },
  {
   "cell_type": "code",
   "execution_count": 136,
   "metadata": {},
   "outputs": [],
   "source": [
    "environment.close()"
   ]
  }
 ],
 "metadata": {
  "kernelspec": {
   "display_name": "Python 3",
   "language": "python",
   "name": "python3"
  },
  "language_info": {
   "codemirror_mode": {
    "name": "ipython",
    "version": 3
   },
   "file_extension": ".py",
   "mimetype": "text/x-python",
   "name": "python",
   "nbconvert_exporter": "python",
   "pygments_lexer": "ipython3",
   "version": "3.6.10"
  }
 },
 "nbformat": 4,
 "nbformat_minor": 4
}
